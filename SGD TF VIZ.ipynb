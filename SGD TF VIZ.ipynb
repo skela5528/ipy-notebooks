{
 "cells": [
  {
   "cell_type": "code",
   "execution_count": null,
   "metadata": {},
   "outputs": [],
   "source": [
    "import tensorflow as tf\n",
    "import numpy as np\n",
    "from scipy import stats\n",
    "import pandas as pd\n",
    "import matplotlib.pyplot as plt\n",
    "import seaborn as sns\n",
    "import time\n",
    "%pylab inline"
   ]
  },
  {
   "cell_type": "markdown",
   "metadata": {
    "raw_mimetype": "text/markdown"
   },
   "source": [
    "# Intro\n",
    "SGD - Stohastic <>\n",
    "sdsd\n",
    "sd"
   ]
  },
  {
   "cell_type": "markdown",
   "metadata": {},
   "source": [
    "# Data"
   ]
  },
  {
   "cell_type": "code",
   "execution_count": null,
   "metadata": {},
   "outputs": [],
   "source": [
    "def generate_data(intercept=2, slope=0.8, n=50, normalize=False):\n",
    "    np.random.seed(997)\n",
    "    x = np.random.uniform(low=-1, high=1, size=n)\n",
    "    noise_scale = (x.max()-x.min()) / 10\n",
    "    noise = np.random.normal(loc=0, scale=noise_scale, size=n)\n",
    "    y = intercept + slope*x + noise\n",
    "    # normalization #\n",
    "    if normalize:\n",
    "        norm = lambda vec: (vec - vec.mean()) / vec.std()\n",
    "        x, y = norm(x), norm(y)\n",
    "    return x, y\n",
    "x, y = generate_data(normalize=True) \n",
    "data_df = pd.DataFrame({'x':x, 'y':y})\n",
    "\n",
    "# data visualisation\n",
    "sns.set(style=\"ticks\")\n",
    "g = sns.JointGrid(x='x', y='y', data=data_df, size=5, ratio=4)\n",
    "_ = g.plot_joint(sns.regplot, marker='P', ci=None, line_kws={'ls':'--', 'lw':1})\n",
    "_ = g.plot_marginals(sns.distplot, bins=10)"
   ]
  },
  {
   "cell_type": "markdown",
   "metadata": {},
   "source": [
    "# SGD with TF"
   ]
  },
  {
   "cell_type": "code",
   "execution_count": null,
   "metadata": {},
   "outputs": [],
   "source": [
    "def sgd_solution (x_data, y_data, n_iter, learning_rate, print_st=1):\n",
    "    # slope and intercept initial value\n",
    "    init_val = -2.0\n",
    "    b_0 = tf.Variable(init_val, tf.float32)\n",
    "    b_1 = tf.Variable(init_val, tf.float32)\n",
    "    \n",
    "    # Linear Model definition\n",
    "    x = tf.placeholder(tf.float32)\n",
    "    y = tf.placeholder(tf.float32)\n",
    "    lm = b_0 + b_1*x\n",
    "    \n",
    "    # SSE loss  - the same metric as Linear Regression use \n",
    "    # SSE(p_predicted , y)\n",
    "    sse_loss = tf.reduce_sum(tf.square(lm-y))\n",
    "    # optimizer\n",
    "    opt = tf.train.GradientDescentOptimizer(learning_rate)\n",
    "    # opt = tf.train.AdagradOptimizer(learning_rate)   # possible to use different GD variations\n",
    "    # opt = tf.train.AdamOptimizer(learning_rate)\n",
    "    train = opt.minimize(sse_loss)\n",
    "    \n",
    "    # training #\n",
    "    init = tf.global_variables_initializer()\n",
    "    sess = tf.Session()\n",
    "    sess.run(init)\n",
    "    ans = []  # intermidiate values of estimated b0, b1 and SSE value\n",
    "    ans.append(sess.run([b_0, b_1, sse_loss], {x:x_data, y:y_data})) # initial values\n",
    "    # perform SGD iterations \n",
    "    for i in range(n_iter):\n",
    "        sess.run(train, {x:x_data, y:x_data})\n",
    "        if i%print_st==0:\n",
    "            ans_i = sess.run([b_0, b_1, sse_loss], {x:x_data, y:y_data})\n",
    "            print('iter %d' %i)\n",
    "            print('b0=%.3f  b1=%.3f  sse=%.3f' %(ans_i[0], ans_i[1], ans_i[2]))\n",
    "            ans.append(ans_i)\n",
    "    return ans"
   ]
  },
  {
   "cell_type": "code",
   "execution_count": null,
   "metadata": {},
   "outputs": [],
   "source": [
    "sgd_results = sgd_solution(x, y, n_iter=10, learning_rate=0.008, print_st=1)"
   ]
  },
  {
   "cell_type": "code",
   "execution_count": null,
   "metadata": {},
   "outputs": [],
   "source": []
  }
 ],
 "metadata": {
  "kernelspec": {
   "display_name": "Python 3",
   "language": "python",
   "name": "python3"
  },
  "language_info": {
   "codemirror_mode": {
    "name": "ipython",
    "version": 3
   },
   "file_extension": ".py",
   "mimetype": "text/x-python",
   "name": "python",
   "nbconvert_exporter": "python",
   "pygments_lexer": "ipython3",
   "version": "3.5.3"
  }
 },
 "nbformat": 4,
 "nbformat_minor": 2
}
